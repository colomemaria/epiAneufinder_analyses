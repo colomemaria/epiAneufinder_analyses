{
 "cells": [
  {
   "cell_type": "code",
   "execution_count": 2,
   "id": "135b8260-7c56-4abf-8b5d-bdf068488f22",
   "metadata": {},
   "outputs": [],
   "source": [
    "# Script for formatting the Copy-scAT output into epiAneufinder bins\n",
    "import pandas as pd\n",
    "import numpy as np\n",
    "import seaborn as sns\n",
    "import matplotlib.pyplot as plt\n",
    "from natsort import natsorted\n",
    "import gzip"
   ]
  },
  {
   "cell_type": "code",
   "execution_count": 3,
   "id": "6b91134b-8078-4fbd-8b67-fa3d79256e20",
   "metadata": {},
   "outputs": [
    {
     "name": "stderr",
     "output_type": "stream",
     "text": [
      "<ipython-input-3-2109256a96c4>:7: SettingWithCopyWarning: \n",
      "A value is trying to be set on a copy of a slice from a DataFrame\n",
      "\n",
      "See the caveats in the documentation: https://pandas.pydata.org/pandas-docs/stable/user_guide/indexing.html#returning-a-view-versus-a-copy\n",
      "  chrarm[\"chr\"][idx] = chrarm[\"chr\"][idx]+elem[0]\n"
     ]
    }
   ],
   "source": [
    "chrarm = pd.read_csv(\"hg38_cytoBand.txt\", sep=\"\\t\", header=0, names=[\"chr\",\"start\",\"end\",\"arm_annot\",\"comment\"])\n",
    "chrarm = chrarm.dropna()\n",
    "chrarm = chrarm.reset_index(drop=True)\n",
    "\n",
    "armannot = []\n",
    "for idx, elem in enumerate(chrarm[\"arm_annot\"]):\n",
    "    chrarm[\"chr\"][idx] = chrarm[\"chr\"][idx]+elem[0]"
   ]
  },
  {
   "cell_type": "code",
   "execution_count": 4,
   "id": "1c3352df-8259-4e21-aea3-0084022bd65c",
   "metadata": {},
   "outputs": [],
   "source": [
    "del chrarm[\"arm_annot\"]\n",
    "del chrarm[\"comment\"]"
   ]
  },
  {
   "cell_type": "code",
   "execution_count": 5,
   "id": "e244d432-234e-4348-847a-d4178321a3f4",
   "metadata": {},
   "outputs": [],
   "source": [
    "chrarm = chrarm.groupby(['chr']).agg({'start': ['min'], 'end': lambda x: max(x)-1})"
   ]
  },
  {
   "cell_type": "code",
   "execution_count": 6,
   "id": "116dab73-59c1-45bf-a9f8-21bb561447de",
   "metadata": {},
   "outputs": [],
   "source": [
    "chrarm.columns = [\"start\",\"end\"]"
   ]
  },
  {
   "cell_type": "code",
   "execution_count": 7,
   "id": "a71ae98d-258a-4470-868d-9b90e5410537",
   "metadata": {},
   "outputs": [],
   "source": [
    "chrarm.loc[\"chr1p\"].start = 0"
   ]
  },
  {
   "cell_type": "code",
   "execution_count": 8,
   "id": "f8d573c6-ef07-4a28-bbdd-c41d8d5f4a79",
   "metadata": {},
   "outputs": [],
   "source": [
    "chrarm[\"tmp\"] = chrarm.index"
   ]
  },
  {
   "cell_type": "code",
   "execution_count": 9,
   "id": "c622c992-1ae4-4503-b04d-55bf75b80d63",
   "metadata": {},
   "outputs": [],
   "source": [
    "chrom = []\n",
    "arm = []\n",
    "for elem in chrarm[\"tmp\"]:\n",
    "    chrom.append(elem[:-1])\n",
    "    arm.append(elem[-1])\n",
    "chrarm[\"seq\"] = chrom\n",
    "chrarm[\"arm\"] = arm"
   ]
  },
  {
   "cell_type": "code",
   "execution_count": 10,
   "id": "da45da43-87a6-49ff-8a40-80982a03d05e",
   "metadata": {},
   "outputs": [],
   "source": [
    "armdict = {}\n",
    "for idx, elem in enumerate(chrarm[\"tmp\"]):\n",
    "    armdict[elem] = [chrarm[\"start\"][idx], chrarm[\"end\"][idx]]"
   ]
  },
  {
   "cell_type": "code",
   "execution_count": 11,
   "id": "54cebfa7-5e5e-4c17-b23c-3e770fa4aac7",
   "metadata": {},
   "outputs": [],
   "source": [
    "epidf = pd.read_csv(\"epiAneufinder/aGBM_4349_results_table.tsv\", sep=\" \")"
   ]
  },
  {
   "cell_type": "code",
   "execution_count": 12,
   "id": "a7f02e4b-f353-4045-91c6-14d1b28ca737",
   "metadata": {},
   "outputs": [],
   "source": [
    "annot = []\n",
    "for idx, chrom in enumerate(epidf[\"seq\"]):\n",
    "    chrom = str(chrom)\n",
    "    if epidf[\"start\"].tolist()[idx] >= 0 and epidf[\"end\"].tolist()[idx] <= chrarm.loc[:str(chrom)+\"p\"].end[str(chrom)+\"p\"]+1:\n",
    "        annot.append(chrom+\"p\")\n",
    "    elif epidf[\"start\"].tolist()[idx] >= chrarm.loc[:str(chrom)+\"q\"].start[str(chrom)+\"q\"]:\n",
    "        annot.append(chrom+\"q\")\n",
    "    else:\n",
    "        annot.append(\"unclear\")"
   ]
  },
  {
   "cell_type": "code",
   "execution_count": 13,
   "id": "a420a793-c44d-4728-89f7-aa378fdce65b",
   "metadata": {},
   "outputs": [],
   "source": [
    "epidf[\"arm\"] = annot"
   ]
  },
  {
   "cell_type": "code",
   "execution_count": 14,
   "id": "d1da7c4e-6fa1-40ab-ab7d-bc08c06c9a30",
   "metadata": {},
   "outputs": [],
   "source": [
    "epidf.columns = epidf.columns.str.replace(r'cell-', '')"
   ]
  },
  {
   "cell_type": "code",
   "execution_count": 15,
   "id": "1241b16e-cfc3-47f7-9e3d-5a00926c9fe2",
   "metadata": {},
   "outputs": [],
   "source": [
    "data = pd.read_csv(\"CopyscAT/aGBM_4349_1Mb_5000clean_cnv_cnv_scores.csv\", index_col=0)\n",
    "\n",
    "df = data.reindex(natsorted(data.columns), axis=1)"
   ]
  },
  {
   "cell_type": "code",
   "execution_count": 16,
   "id": "84b48591-311d-473a-a608-2a33deb36ab8",
   "metadata": {},
   "outputs": [],
   "source": [
    "df_copy = df.T"
   ]
  },
  {
   "cell_type": "code",
   "execution_count": 17,
   "id": "85c531b9-4d65-4fb5-8c9b-1543ca4cabaf",
   "metadata": {},
   "outputs": [],
   "source": [
    "df_copy[\"arm\"] = df_copy.index"
   ]
  },
  {
   "cell_type": "code",
   "execution_count": 18,
   "id": "8ded8598-b803-4b14-af84-13574ef2c4a0",
   "metadata": {},
   "outputs": [],
   "source": [
    "chrom = []\n",
    "starts = []\n",
    "ends = []\n",
    "for idx,elem in enumerate(epidf.arm.tolist()):\n",
    "    chrom.append(elem)\n",
    "    starts.append(epidf[\"start\"][idx+1])\n",
    "    ends.append(epidf[\"end\"][idx+1])"
   ]
  },
  {
   "cell_type": "code",
   "execution_count": 19,
   "id": "1f41fd79-6568-4aa1-8ccc-62726a052acf",
   "metadata": {},
   "outputs": [],
   "source": [
    "binsizes = pd.DataFrame()\n",
    "binsizes.index = chrom\n",
    "binsizes[\"arm\"] = chrom\n",
    "binsizes[\"start\"] = starts\n",
    "binsizes[\"end\"] = ends"
   ]
  },
  {
   "cell_type": "code",
   "execution_count": 20,
   "id": "ab0c2dde-ad09-4aef-9942-219a203695b5",
   "metadata": {},
   "outputs": [],
   "source": [
    "csa = pd.merge(binsizes, df_copy, on=\"arm\")"
   ]
  },
  {
   "cell_type": "code",
   "execution_count": 21,
   "id": "9a4e712b-6299-419f-88ad-ff7ba13697c7",
   "metadata": {},
   "outputs": [],
   "source": [
    "copy_position = []\n",
    "for idx, elem in enumerate(csa[\"arm\"]):\n",
    "    copy_position.append(elem[:-1]+\"_\"+str(csa[\"start\"][idx])+\"_\"+str(csa[\"end\"][idx]))"
   ]
  },
  {
   "cell_type": "code",
   "execution_count": 22,
   "id": "e6b0cd37-9c1d-402c-9c8e-fb7fa9917dc0",
   "metadata": {},
   "outputs": [],
   "source": [
    "csa[\"position\"] = copy_position"
   ]
  },
  {
   "cell_type": "code",
   "execution_count": 23,
   "id": "6d967966-d1e9-4375-9085-1c177c438877",
   "metadata": {},
   "outputs": [],
   "source": [
    "epi_position = []\n",
    "for idx, elem in enumerate(epidf[\"seq\"]):\n",
    "    epi_position.append(elem+\"_\"+str(epidf[\"start\"][idx+1])+\"_\"+str(epidf[\"end\"][idx+1]))"
   ]
  },
  {
   "cell_type": "code",
   "execution_count": 24,
   "id": "9574a207-cb5c-410c-84aa-f1bacd3c3b81",
   "metadata": {},
   "outputs": [],
   "source": [
    "epidf[\"position\"] = epi_position"
   ]
  },
  {
   "cell_type": "code",
   "execution_count": 25,
   "id": "60359b42-7d24-4d2f-8a56-a3f8a0541e0b",
   "metadata": {},
   "outputs": [],
   "source": [
    "del csa[\"arm\"]\n",
    "del csa[\"start\"]\n",
    "del csa[\"end\"]"
   ]
  },
  {
   "cell_type": "code",
   "execution_count": 26,
   "id": "8b7ab3be-76f7-4edf-acfe-f6d72a322440",
   "metadata": {},
   "outputs": [],
   "source": [
    "csa.index = csa[\"position\"]"
   ]
  },
  {
   "cell_type": "code",
   "execution_count": 27,
   "id": "65020afb-988b-41c0-b137-372957b07266",
   "metadata": {},
   "outputs": [],
   "source": [
    "del epidf[\"arm\"]\n",
    "del epidf[\"seq\"]\n",
    "del epidf[\"start\"]\n",
    "del epidf[\"end\"]"
   ]
  },
  {
   "cell_type": "code",
   "execution_count": 28,
   "id": "b70f6d89-5117-46a4-85fe-37e59ffa1348",
   "metadata": {},
   "outputs": [],
   "source": [
    "del csa[\"position\"]"
   ]
  },
  {
   "cell_type": "code",
   "execution_count": 29,
   "id": "14c8e6a7-96f0-4583-aac5-2365f9a49090",
   "metadata": {},
   "outputs": [],
   "source": [
    "#csa.T.to_csv(\"aGBM_4349_copyscat_means_per_epiAneufinder_bins_per_cell_20230321.tsv\", sep=\"\\t\")"
   ]
  },
  {
   "cell_type": "code",
   "execution_count": 30,
   "id": "d619dc28-6b32-4bfd-844b-d57d4a3c483d",
   "metadata": {},
   "outputs": [],
   "source": [
    "epidf.index = epidf[\"position\"]"
   ]
  },
  {
   "cell_type": "code",
   "execution_count": 31,
   "id": "6c36ff44-99f4-4879-9361-b37c24dce0b0",
   "metadata": {},
   "outputs": [],
   "source": [
    "del epidf[\"position\"]"
   ]
  },
  {
   "cell_type": "code",
   "execution_count": 32,
   "id": "e4e4c125-0a0f-4aad-8aa2-06db01675a75",
   "metadata": {},
   "outputs": [],
   "source": [
    "epi = epidf.T\n",
    "csa1 = csa.T"
   ]
  },
  {
   "cell_type": "code",
   "execution_count": 33,
   "id": "e46de914-fc7e-409b-be76-a9ae9a44c709",
   "metadata": {},
   "outputs": [],
   "source": [
    "kept_cells = []\n",
    "for elem in csa1.index.tolist():\n",
    "    if elem in epi.index.tolist():\n",
    "        kept_cells.append(elem)"
   ]
  },
  {
   "cell_type": "code",
   "execution_count": 34,
   "id": "990728fc-07e4-4481-8b80-ce5c0177912a",
   "metadata": {},
   "outputs": [
    {
     "data": {
      "text/plain": [
       "702"
      ]
     },
     "execution_count": 34,
     "metadata": {},
     "output_type": "execute_result"
    }
   ],
   "source": [
    "len(kept_cells)"
   ]
  },
  {
   "cell_type": "code",
   "execution_count": 35,
   "id": "b77e23bc-31b4-40db-890d-4c6c0f7b9d72",
   "metadata": {},
   "outputs": [],
   "source": [
    "new_csa = csa1[csa1.index.isin(kept_cells)]"
   ]
  },
  {
   "cell_type": "code",
   "execution_count": 36,
   "id": "6a5eacc2-d60e-4bd8-8658-558472ffde16",
   "metadata": {},
   "outputs": [],
   "source": [
    "new_epi = epi[epi.index.isin(kept_cells)]"
   ]
  },
  {
   "cell_type": "code",
   "execution_count": 37,
   "id": "a1b7ee6e-f026-4cd8-b7b1-94b097f6f054",
   "metadata": {},
   "outputs": [],
   "source": [
    "kept_cols = []\n",
    "for elem in new_epi.columns.tolist():\n",
    "    if elem in new_csa.columns.tolist():\n",
    "        kept_cols.append(elem)"
   ]
  },
  {
   "cell_type": "code",
   "execution_count": 38,
   "id": "7eeec14b-a1a1-4d21-a2e8-3d916bb357aa",
   "metadata": {},
   "outputs": [
    {
     "data": {
      "text/plain": [
       "12745"
      ]
     },
     "execution_count": 38,
     "metadata": {},
     "output_type": "execute_result"
    }
   ],
   "source": [
    "len(kept_cols)"
   ]
  },
  {
   "cell_type": "code",
   "execution_count": 39,
   "id": "57d4c947-38ca-4db5-816c-a515eafe2a91",
   "metadata": {},
   "outputs": [],
   "source": [
    "new_epi = new_epi.filter(kept_cols, axis=\"columns\")"
   ]
  },
  {
   "cell_type": "code",
   "execution_count": 40,
   "id": "14cb6608-80da-48da-9d9c-61ca050b4ab2",
   "metadata": {},
   "outputs": [],
   "source": [
    "new_epi = new_epi + 1"
   ]
  },
  {
   "cell_type": "code",
   "execution_count": 41,
   "id": "5404faf4-9495-45f8-bfb1-9ae0b99bc4fd",
   "metadata": {},
   "outputs": [],
   "source": [
    "new_csa = new_csa.filter(kept_cols, axis=\"columns\")"
   ]
  },
  {
   "cell_type": "code",
   "execution_count": 42,
   "id": "062f0554-2729-4052-aa22-34710ac812bd",
   "metadata": {},
   "outputs": [],
   "source": [
    "sorterIndex = dict(zip(new_csa.index.tolist(), range(len(new_csa.index.tolist()))))"
   ]
  },
  {
   "cell_type": "code",
   "execution_count": 43,
   "id": "f9049f6d-1137-4a7e-b332-bace6e9c0342",
   "metadata": {},
   "outputs": [],
   "source": [
    "new_epi['cell_rank'] = new_epi.index.map(sorterIndex)"
   ]
  },
  {
   "cell_type": "code",
   "execution_count": 44,
   "id": "f1ab5d96-0119-4bae-ab76-27db9a396a59",
   "metadata": {},
   "outputs": [
    {
     "name": "stderr",
     "output_type": "stream",
     "text": [
      "<ipython-input-44-37488d35b2ed>:2: FutureWarning: In a future version of pandas all arguments of DataFrame.drop except for the argument 'labels' will be keyword-only.\n",
      "  new_epi.drop('cell_rank', 1, inplace = True)\n"
     ]
    }
   ],
   "source": [
    "new_epi.sort_values([\"cell_rank\"], inplace = True)\n",
    "new_epi.drop('cell_rank', 1, inplace = True)"
   ]
  },
  {
   "cell_type": "code",
   "execution_count": 45,
   "id": "b86e6304-1e65-415a-9166-09d5a2fd4afd",
   "metadata": {},
   "outputs": [],
   "source": [
    "new_epi = new_epi.astype(float)"
   ]
  },
  {
   "cell_type": "code",
   "execution_count": 46,
   "id": "9efa5eb4-ebab-4996-ab07-e477e505c741",
   "metadata": {},
   "outputs": [],
   "source": [
    "cor_df = pd.DataFrame(new_epi.corrwith(new_csa, axis = 0))"
   ]
  },
  {
   "cell_type": "code",
   "execution_count": 47,
   "id": "ac9e2862-d25a-4e71-8df5-77e20523cc19",
   "metadata": {},
   "outputs": [
    {
     "data": {
      "text/plain": [
       "0    0.417765\n",
       "dtype: float64"
      ]
     },
     "execution_count": 47,
     "metadata": {},
     "output_type": "execute_result"
    }
   ],
   "source": [
    "pd.DataFrame(np.mean(new_epi, axis=0)).corrwith(np.mean(new_csa, axis=0))"
   ]
  },
  {
   "cell_type": "code",
   "execution_count": 48,
   "id": "94a91f1b-f96a-49d5-85c1-d1516d6f074e",
   "metadata": {},
   "outputs": [],
   "source": [
    "df1 = pd.DataFrame()\n",
    "\n",
    "df1[\"position\"] = 2*new_csa.columns.tolist()\n",
    "\n",
    "means = []\n",
    "dataset = []\n",
    "for elem in np.mean(new_csa, axis=0).tolist():\n",
    "    means.append(elem)\n",
    "    dataset.append(\"copyscat\")\n",
    "for elem in np.mean(new_epi, axis=0).tolist():\n",
    "    means.append(elem)\n",
    "    dataset.append(\"epianeufinder\")\n",
    "df1[\"means\"] = means\n",
    "df1[\"method\"] = dataset"
   ]
  },
  {
   "cell_type": "code",
   "execution_count": 49,
   "id": "d8bd29d1-2774-4b5b-9816-ae78d8560a36",
   "metadata": {},
   "outputs": [],
   "source": [
    "#df1[df1[\"method\"] == \"copyscat\"].to_csv(\"aGBM_4349_copyscat_means_per_epiAneufinder_bins_20230321.tsv\", sep=\"\\t\")"
   ]
  },
  {
   "cell_type": "code",
   "execution_count": 50,
   "id": "7715ff02-17b5-4e31-9925-93b180cf063d",
   "metadata": {},
   "outputs": [
    {
     "data": {
      "image/png": "[encoded data removed]",
      "text/plain": [
       "<Figure size 576x576 with 1 Axes>"
      ]
     },
     "metadata": {
      "needs_background": "light"
     },
     "output_type": "display_data"
    }
   ],
   "source": [
    "plt.rcParams['figure.figsize']=(8,8) #rescale figures\n",
    "ax = sns.lineplot(df1, x=\"position\", y=\"means\", hue=\"method\")"
   ]
  },
  {
   "cell_type": "code",
   "execution_count": null,
   "id": "b92d43c6-9ee7-46e9-b9df-bc8ee68fda85",
   "metadata": {},
   "outputs": [],
   "source": []
  }
 ],
 "metadata": {
  "kernelspec": {
   "display_name": "Python 3",
   "language": "python",
   "name": "python3"
  },
  "language_info": {
   "codemirror_mode": {
    "name": "ipython",
    "version": 3
   },
   "file_extension": ".py",
   "mimetype": "text/x-python",
   "name": "python",
   "nbconvert_exporter": "python",
   "pygments_lexer": "ipython3",
   "version": "3.8.13"
  }
 },
 "nbformat": 4,
 "nbformat_minor": 5
}
